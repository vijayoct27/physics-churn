{
 "cells": [
  {
   "cell_type": "code",
   "execution_count": 1,
   "metadata": {},
   "outputs": [],
   "source": [
    "import pandas as pd\n",
    "import numpy as np\n",
    "import matplotlib.pyplot as plt\n",
    "import json\n",
    "import time\n",
    "import networkx as nx\n",
    "from itertools import combinations"
   ]
  },
  {
   "cell_type": "markdown",
   "metadata": {},
   "source": [
    "Import Inspire meta data"
   ]
  },
  {
   "cell_type": "code",
   "execution_count": 2,
   "metadata": {
    "scrolled": false
   },
   "outputs": [
    {
     "name": "stdout",
     "output_type": "stream",
     "text": [
      "CPU times: user 1min 37s, sys: 2min 46s, total: 4min 24s\n",
      "Wall time: 7min\n"
     ]
    }
   ],
   "source": [
    "%%time \n",
    "path = '/Users/NewUser/hep_records.json'\n",
    "raw_data = pd.read_json(path, lines=True, orient='columns')"
   ]
  },
  {
   "cell_type": "markdown",
   "metadata": {},
   "source": [
    "Remove unnecessary columns and Basic cleaning"
   ]
  },
  {
   "cell_type": "code",
   "execution_count": 3,
   "metadata": {},
   "outputs": [],
   "source": [
    "dropcol = ['abstract', 'free_keywords', 'standardized_keywords']\n",
    "raw_data.drop(dropcol, axis=1, inplace=True)"
   ]
  },
  {
   "cell_type": "code",
   "execution_count": 4,
   "metadata": {},
   "outputs": [],
   "source": [
    "new_data = raw_data.copy()\n",
    "\n",
    "# basic features\n",
    "\n",
    "current_year = 2020\n",
    "new_data['Year'] = new_data.creation_date.str.slice(start=0, stop=4)\n",
    "new_data['Refs'] = new_data.references.str.len()\n",
    "new_data['Cites'] = new_data.citations.str.len()\n",
    "new_data['Authors'] = new_data['authors'] + new_data['co-authors']\n",
    "new_data['Num_authors'] = new_data.Authors.str.len()\n",
    "\n",
    "# basic clearning\n",
    "\n",
    "new_data.dropna(subset=['creation_date'], inplace=True)\n",
    "new_data.drop(new_data[new_data.Refs < 5].index, inplace=True)\n",
    "new_data.drop(new_data[new_data.Authors.str.len() == 0].index, inplace=True)\n",
    "\n",
    "# clean Year\n",
    "\n",
    "new_data.drop(new_data[(new_data.creation_date.str.slice(start=0, stop=2) != '20')\n",
    "                             & (new_data.creation_date.str.slice(start=0, stop=2) != '19')].index, inplace=True)\n",
    "new_data.drop(new_data[(new_data.creation_date.str.slice(start=0, stop=3) == '20 ')\n",
    "                             | (new_data.creation_date.str.slice(start=0, stop=3) == '19 ')].index, inplace=True)\n",
    "new_data.drop(new_data[(new_data.creation_date.str.slice(start=0, stop=3) == '20-')\n",
    "                             | (new_data.creation_date.str.slice(start=0, stop=3) == '19-')].index, inplace=True)\n",
    "new_data['Year'] = new_data['Year'].astype(int)\n",
    "new_data['Cites_per_year'] = new_data.Cites / ((current_year - new_data.Year) + 1)"
   ]
  },
  {
   "cell_type": "markdown",
   "metadata": {},
   "source": [
    "Initial cut on large author papers (e.g. experimental results, white papers, ...)"
   ]
  },
  {
   "cell_type": "code",
   "execution_count": 248,
   "metadata": {},
   "outputs": [
    {
     "data": {
      "text/html": [
       "<div>\n",
       "<style scoped>\n",
       "    .dataframe tbody tr th:only-of-type {\n",
       "        vertical-align: middle;\n",
       "    }\n",
       "\n",
       "    .dataframe tbody tr th {\n",
       "        vertical-align: top;\n",
       "    }\n",
       "\n",
       "    .dataframe thead th {\n",
       "        text-align: right;\n",
       "    }\n",
       "</style>\n",
       "<table border=\"1\" class=\"dataframe\">\n",
       "  <thead>\n",
       "    <tr style=\"text-align: right;\">\n",
       "      <th></th>\n",
       "      <th>authors</th>\n",
       "      <th>citations</th>\n",
       "      <th>co-authors</th>\n",
       "      <th>creation_date</th>\n",
       "      <th>references</th>\n",
       "      <th>title</th>\n",
       "      <th>Year</th>\n",
       "      <th>Refs</th>\n",
       "      <th>Cites</th>\n",
       "      <th>Authors</th>\n",
       "      <th>Num_authors</th>\n",
       "      <th>Cites_per_year</th>\n",
       "      <th>recid</th>\n",
       "    </tr>\n",
       "    <tr>\n",
       "      <th>recid</th>\n",
       "      <th></th>\n",
       "      <th></th>\n",
       "      <th></th>\n",
       "      <th></th>\n",
       "      <th></th>\n",
       "      <th></th>\n",
       "      <th></th>\n",
       "      <th></th>\n",
       "      <th></th>\n",
       "      <th></th>\n",
       "      <th></th>\n",
       "      <th></th>\n",
       "      <th></th>\n",
       "    </tr>\n",
       "  </thead>\n",
       "  <tbody>\n",
       "    <tr>\n",
       "      <th>51</th>\n",
       "      <td>[Noyes, H.Pierre]</td>\n",
       "      <td>[107392, 48129, 72835, 50824, 1436908, 114955,...</td>\n",
       "      <td>[]</td>\n",
       "      <td>1963</td>\n",
       "      <td>[47202, 43619, 47204, 46245, 47400, 45692, 166...</td>\n",
       "      <td>Neutron-Proton Scattering Below 20-MeV</td>\n",
       "      <td>1963</td>\n",
       "      <td>19</td>\n",
       "      <td>62</td>\n",
       "      <td>[Noyes, H.Pierre]</td>\n",
       "      <td>1</td>\n",
       "      <td>1.068966</td>\n",
       "      <td>51</td>\n",
       "    </tr>\n",
       "    <tr>\n",
       "      <th>56</th>\n",
       "      <td>[Thiebaux, Martial L., Jr.]</td>\n",
       "      <td>[]</td>\n",
       "      <td>[]</td>\n",
       "      <td>1962-11</td>\n",
       "      <td>[47713, 1475814, 1414721, 9133, 40878, 48497, ...</td>\n",
       "      <td>PION PRODUCTION IN PION PION COLLISIONS</td>\n",
       "      <td>1962</td>\n",
       "      <td>8</td>\n",
       "      <td>0</td>\n",
       "      <td>[Thiebaux, Martial L., Jr.]</td>\n",
       "      <td>1</td>\n",
       "      <td>0.000000</td>\n",
       "      <td>56</td>\n",
       "    </tr>\n",
       "    <tr>\n",
       "      <th>61</th>\n",
       "      <td>[Berman, S.M.]</td>\n",
       "      <td>[1431040, 60929, 1416706, 98820, 56841, 52240,...</td>\n",
       "      <td>[Drell, S.D.]</td>\n",
       "      <td>1963-08</td>\n",
       "      <td>[46912, 46531, 1672881, 9384, 40203, 46733, 46...</td>\n",
       "      <td>SPECULATIONS ON THE PRODUCTION OF VECTOR MESONS</td>\n",
       "      <td>1963</td>\n",
       "      <td>11</td>\n",
       "      <td>87</td>\n",
       "      <td>[Berman, S.M., Drell, S.D.]</td>\n",
       "      <td>2</td>\n",
       "      <td>1.500000</td>\n",
       "      <td>61</td>\n",
       "    </tr>\n",
       "    <tr>\n",
       "      <th>63</th>\n",
       "      <td>[Berman, S.M.]</td>\n",
       "      <td>[89093, 80998, 372907, 442413, 102990, 63631, ...</td>\n",
       "      <td>[Tsai, Yung-Su]</td>\n",
       "      <td>1963-10</td>\n",
       "      <td>[47712, 21794, 47687, 21804, 23023, 43541, 484...</td>\n",
       "      <td>INTERMEDIATE BOSON PAIR PRODUCTION AS A MEANS ...</td>\n",
       "      <td>1963</td>\n",
       "      <td>8</td>\n",
       "      <td>12</td>\n",
       "      <td>[Berman, S.M., Tsai, Yung-Su]</td>\n",
       "      <td>2</td>\n",
       "      <td>0.206897</td>\n",
       "      <td>63</td>\n",
       "    </tr>\n",
       "    <tr>\n",
       "      <th>67</th>\n",
       "      <td>[Bander, Myron]</td>\n",
       "      <td>[60800, 75010, 143237, 279691, 157073, 245270,...</td>\n",
       "      <td>[]</td>\n",
       "      <td>1964-01</td>\n",
       "      <td>[1476836, 47206, 47344, 51, 9019, 47228]</td>\n",
       "      <td>LOW-ENERGY NEUTRON NEUTRON SCATTERING PARAMETERS</td>\n",
       "      <td>1964</td>\n",
       "      <td>6</td>\n",
       "      <td>32</td>\n",
       "      <td>[Bander, Myron]</td>\n",
       "      <td>1</td>\n",
       "      <td>0.561404</td>\n",
       "      <td>67</td>\n",
       "    </tr>\n",
       "  </tbody>\n",
       "</table>\n",
       "</div>"
      ],
      "text/plain": [
       "                           authors  \\\n",
       "recid                                \n",
       "51               [Noyes, H.Pierre]   \n",
       "56     [Thiebaux, Martial L., Jr.]   \n",
       "61                  [Berman, S.M.]   \n",
       "63                  [Berman, S.M.]   \n",
       "67                 [Bander, Myron]   \n",
       "\n",
       "                                               citations       co-authors  \\\n",
       "recid                                                                       \n",
       "51     [107392, 48129, 72835, 50824, 1436908, 114955,...               []   \n",
       "56                                                    []               []   \n",
       "61     [1431040, 60929, 1416706, 98820, 56841, 52240,...    [Drell, S.D.]   \n",
       "63     [89093, 80998, 372907, 442413, 102990, 63631, ...  [Tsai, Yung-Su]   \n",
       "67     [60800, 75010, 143237, 279691, 157073, 245270,...               []   \n",
       "\n",
       "      creation_date                                         references  \\\n",
       "recid                                                                    \n",
       "51             1963  [47202, 43619, 47204, 46245, 47400, 45692, 166...   \n",
       "56          1962-11  [47713, 1475814, 1414721, 9133, 40878, 48497, ...   \n",
       "61          1963-08  [46912, 46531, 1672881, 9384, 40203, 46733, 46...   \n",
       "63          1963-10  [47712, 21794, 47687, 21804, 23023, 43541, 484...   \n",
       "67          1964-01           [1476836, 47206, 47344, 51, 9019, 47228]   \n",
       "\n",
       "                                                   title  Year  Refs  Cites  \\\n",
       "recid                                                                         \n",
       "51                Neutron-Proton Scattering Below 20-MeV  1963    19     62   \n",
       "56               PION PRODUCTION IN PION PION COLLISIONS  1962     8      0   \n",
       "61       SPECULATIONS ON THE PRODUCTION OF VECTOR MESONS  1963    11     87   \n",
       "63     INTERMEDIATE BOSON PAIR PRODUCTION AS A MEANS ...  1963     8     12   \n",
       "67      LOW-ENERGY NEUTRON NEUTRON SCATTERING PARAMETERS  1964     6     32   \n",
       "\n",
       "                             Authors  Num_authors  Cites_per_year  recid  \n",
       "recid                                                                     \n",
       "51                 [Noyes, H.Pierre]            1        1.068966     51  \n",
       "56       [Thiebaux, Martial L., Jr.]            1        0.000000     56  \n",
       "61       [Berman, S.M., Drell, S.D.]            2        1.500000     61  \n",
       "63     [Berman, S.M., Tsai, Yung-Su]            2        0.206897     63  \n",
       "67                   [Bander, Myron]            1        0.561404     67  "
      ]
     },
     "execution_count": 248,
     "metadata": {},
     "output_type": "execute_result"
    }
   ],
   "source": [
    "#plt.hist(np.log10(new_data.Num_authors))\n",
    "max_authors = 6\n",
    "trimmed_data = new_data.loc[new_data.Num_authors <= max_authors]\n",
    "trimmed_data = trimmed_data.set_index('recid')\n",
    "trimmed_data['recid'] = trimmed_data.index\n",
    "trimmed_data.head()"
   ]
  },
  {
   "cell_type": "markdown",
   "metadata": {},
   "source": [
    "Author cleaning, basic cuts"
   ]
  },
  {
   "cell_type": "code",
   "execution_count": 17,
   "metadata": {
    "scrolled": true
   },
   "outputs": [
    {
     "name": "stdout",
     "output_type": "stream",
     "text": [
      "CPU times: user 1min 22s, sys: 6.65 s, total: 1min 29s\n",
      "Wall time: 1min 31s\n"
     ]
    }
   ],
   "source": [
    "%%time\n",
    "\n",
    "dfsplit = pd.DataFrame({'recid':np.repeat(trimmed_data.recid.values, trimmed_data.Authors.str.len()),\n",
    "                        'Author':np.concatenate(trimmed_data.Authors.values)})\n",
    "authorgroup = dfsplit.groupby('Author')['recid'].apply(list).reset_index(name='recid')\n",
    "\n",
    "authorgroupcuts = authorgroup.drop(authorgroup[authorgroup.recid.str.len() <= 2].index)\n",
    "\n",
    "def clean_name(name):\n",
    "    try:\n",
    "        lastname = name[:name.index(',')]\n",
    "        first = name[name.index(',')+2:]\n",
    "        firsti = first[0]\n",
    "        middlei = ''\n",
    "        #try:\n",
    "        #    middlei = first[first.index(' ')+1] + '.'\n",
    "        #except:\n",
    "        #    pass\n",
    "        #try:\n",
    "        #    middlei = first[first.index('.')+1] + '.'\n",
    "        #except:\n",
    "        #    pass\n",
    "        newname = lastname + ',' + ' ' + firsti + '.' + middlei\n",
    "        return newname\n",
    "    except:\n",
    "        return None\n",
    "    \n",
    "authorgroupcuts['Author']=authorgroupcuts.Author.apply(clean_name)\n",
    "authorgroupcuts.dropna(subset=['Author'], inplace=True)\n",
    "authorgroupcutsrec = pd.DataFrame(authorgroupcuts.groupby('Author')['recid'].sum())\n",
    "authorgroupcutsrec['Author'] = authorgroupcutsrec.index"
   ]
  },
  {
   "cell_type": "markdown",
   "metadata": {},
   "source": [
    "Create aggregate by recid"
   ]
  },
  {
   "cell_type": "code",
   "execution_count": 24,
   "metadata": {},
   "outputs": [],
   "source": [
    "authorexpand = pd.DataFrame({'recid':np.concatenate(authorgroupcutsrec.recid.values), \n",
    "                     'Author':np.repeat(authorgroupcutsrec.Author.values, authorgroupcutsrec.recid.str.len())})\n",
    "recidrec = pd.DataFrame(authorexpand.groupby('recid')['Author'].apply(list))\n",
    "\n",
    "df = trimmed_data.join(recidrec).dropna(subset=['Author'])\n",
    "dfsplit_full = pd.DataFrame({'recid':np.repeat(df.recid.values, df.Author.str.len()),\n",
    "                        'Author':np.concatenate(df.Author.values), \n",
    "                        'Cites':np.repeat(df.Cites.values, df.Author.str.len()),\n",
    "                       'Year':np.repeat(df.Year.values, df.Author.str.len()),\n",
    "                       'Num_authors':np.repeat(df.Num_authors.values, df.Author.str.len()),\n",
    "                       'Cites_per_year':np.repeat(df.Cites_per_year.values, df.Author.str.len())})"
   ]
  },
  {
   "cell_type": "markdown",
   "metadata": {},
   "source": [
    "Basic feature engineering"
   ]
  },
  {
   "cell_type": "code",
   "execution_count": 247,
   "metadata": {},
   "outputs": [],
   "source": [
    "df_author = dfsplit_full.groupby('Author').agg({'Cites':['count', 'min', 'max', 'mean'], \n",
    "                                               'Year':['min', 'max'], \n",
    "                                               'Num_authors':['min', 'max', 'mean'], \n",
    "                                               'Cites_per_year':['max', 'mean']})\n",
    "df_author['Lifespan'] = df_author.Year['max'] - df_author.Year['min'] + 1\n",
    "df_author['Productivity'] = df_author.Cites['count'] / df_author.Lifespan"
   ]
  },
  {
   "cell_type": "markdown",
   "metadata": {},
   "source": [
    "Form collaboration network \n"
   ]
  },
  {
   "cell_type": "code",
   "execution_count": 152,
   "metadata": {},
   "outputs": [],
   "source": [
    "G = nx.Graph()\n",
    "G.add_nodes_from(list(authorexpand.Author.unique()))\n",
    "for i in df.Author:\n",
    "    if len(i) >= 2:\n",
    "        G.add_edges_from(list(combinations(i,2)))"
   ]
  },
  {
   "cell_type": "code",
   "execution_count": 249,
   "metadata": {
    "scrolled": true
   },
   "outputs": [],
   "source": [
    "df_collab = pd.DataFrame(index=df_author.index)\n",
    "df_collab['collab1'] = pd.Series()\n",
    "df_collab['collab2'] = pd.Series()\n",
    "df_collab['collab3'] = pd.Series()\n",
    "df_collab['collab4'] = pd.Series()"
   ]
  },
  {
   "cell_type": "markdown",
   "metadata": {},
   "source": [
    "Fill in df_collab values using network"
   ]
  },
  {
   "cell_type": "code",
   "execution_count": 199,
   "metadata": {},
   "outputs": [
    {
     "name": "stdout",
     "output_type": "stream",
     "text": [
      "CPU times: user 27min 1s, sys: 9.16 s, total: 27min 10s\n",
      "Wall time: 35min 46s\n"
     ]
    }
   ],
   "source": [
    "%%time \n",
    "\n",
    "for i in df_collab.index:\n",
    "    neighbors = list(G.neighbors(i))\n",
    "    tempmean = list()\n",
    "    tempmax = list()\n",
    "    for j in neighbors:\n",
    "        tempmean.append(df_author.loc[j].Cites_per_year['mean'])\n",
    "        tempmax.append(df_author.loc[j].Cites_per_year['max'])\n",
    "    if len(neighbors) >= 1:\n",
    "        df_collab.at[i, 'collab1'] = np.mean(tempmean)\n",
    "        df_collab.at[i, 'collab2'] = max(tempmean)\n",
    "        df_collab.at[i, 'collab3'] = np.mean(tempmax)\n",
    "        df_collab.at[i, 'collab4'] = max(tempmax)"
   ]
  },
  {
   "cell_type": "markdown",
   "metadata": {},
   "source": [
    "Join, rename, and export df_full dataframe"
   ]
  },
  {
   "cell_type": "code",
   "execution_count": 244,
   "metadata": {
    "scrolled": false
   },
   "outputs": [],
   "source": [
    "df_collab.rename(columns={'collab1':'collab_cpy_mean_mean','collab2':'collab_cpy_mean_max',\n",
    "                          'collab3':'collab_cpy_max_mean','collab4':'collab_cpy_max_max'}, inplace=True)\n",
    "df_full = df_author.join(df_collab, on=df_author.index)\n",
    "df_full.rename(columns=\n",
    "              {('Cites', 'count'):'Total_papers',\n",
    "              ('Cites', 'min'):'Cites_min',\n",
    "               ('Cites', 'max'):'Cites_max',\n",
    "               ('Cites','mean'):'Cites_mean',\n",
    "               ('Year', 'min'): 'Year_first',\n",
    "               ('Year', 'max'): 'Year_last',\n",
    "               ('Num_authors', 'min'): 'Num_authors_min',\n",
    "               ('Num_authors', 'max'): 'Num_authors_max',\n",
    "               ('Num_authors', 'mean'): 'Num_authors_mean',\n",
    "               ('Cites_per_year', 'max'): 'cpy_max',\n",
    "               ('Cites_per_year', 'mean'): 'cpy_mean',\n",
    "               ('Lifespan', '') :'Lifespan',\n",
    "               ('Productivity', ''): 'Productivity'\n",
    "              }, inplace=True)\n",
    "df_full.fillna(0, inplace=True)\n",
    "df_full['Author'] = df_full.index\n",
    "df_full.to_csv('df_full.csv', index=False)"
   ]
  }
 ],
 "metadata": {
  "kernelspec": {
   "display_name": "Python 3",
   "language": "python",
   "name": "python3"
  },
  "language_info": {
   "codemirror_mode": {
    "name": "ipython",
    "version": 3
   },
   "file_extension": ".py",
   "mimetype": "text/x-python",
   "name": "python",
   "nbconvert_exporter": "python",
   "pygments_lexer": "ipython3",
   "version": "3.7.3"
  }
 },
 "nbformat": 4,
 "nbformat_minor": 2
}
